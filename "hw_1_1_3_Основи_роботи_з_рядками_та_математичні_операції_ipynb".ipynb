{
  "cells": [
    {
      "cell_type": "markdown",
      "metadata": {
        "id": "view-in-github",
        "colab_type": "text"
      },
      "source": [
        "<a href=\"https://colab.research.google.com/github/TetianaDS/Python-For-DS/blob/main/%22hw_1_1_3_%D0%9E%D1%81%D0%BD%D0%BE%D0%B2%D0%B8_%D1%80%D0%BE%D0%B1%D0%BE%D1%82%D0%B8_%D0%B7_%D1%80%D1%8F%D0%B4%D0%BA%D0%B0%D0%BC%D0%B8_%D1%82%D0%B0_%D0%BC%D0%B0%D1%82%D0%B5%D0%BC%D0%B0%D1%82%D0%B8%D1%87%D0%BD%D1%96_%D0%BE%D0%BF%D0%B5%D1%80%D0%B0%D1%86%D1%96%D1%97_ipynb%22.ipynb\" target=\"_parent\"><img src=\"https://colab.research.google.com/assets/colab-badge.svg\" alt=\"Open In Colab\"/></a>"
      ]
    },
    {
      "cell_type": "markdown",
      "metadata": {
        "id": "9ngpqNFm8w1a"
      },
      "source": [
        "# Домашнє завдання до теми \"Основи роботи з рядками та математичні операції\""
      ]
    },
    {
      "cell_type": "markdown",
      "metadata": {
        "id": "DEkQSeSyTum-"
      },
      "source": [
        "1. Створіть змінні `a`, `b`, `c` та `d`, задайте їм значення відповідно 101, 210, 111, 402, та обчисліть з допомогою Python наступний вираз:  $$ \\frac{(a+b) * c}{d} $$\n",
        "\n",
        "**Важливо**: тут ми маємо обчислити значення саме з використанням змінних, а не просто чисел, як би ми робили у калькуряторі. Змінні потрібні аби за бажання ми могли змінити їх значення та не переписувати код обчислення виразу, бо він буде працювати для різних значень змінних."
      ]
    },
    {
      "cell_type": "code",
      "execution_count": 37,
      "metadata": {
        "colab": {
          "base_uri": "https://localhost:8080/",
          "height": 34
        },
        "id": "u1ICQq5L3eKH",
        "outputId": "6f64e748-a2d9-435c-bbec-300f1e66439f"
      },
      "outputs": [
        {
          "output_type": "display_data",
          "data": {
            "text/plain": [
              "85.8731343283582"
            ]
          },
          "metadata": {}
        }
      ],
      "source": [
        "a = 101\n",
        "b = 210\n",
        "c = 111\n",
        "d = 402\n",
        "(a + b) * c ) / d"
      ]
    },
    {
      "cell_type": "markdown",
      "metadata": {
        "id": "FnBVPt7G3bcR"
      },
      "source": [
        "Очікувана відповідь: 85.8731343283582"
      ]
    },
    {
      "cell_type": "markdown",
      "metadata": {
        "id": "HI3eEYZRT4Cn"
      },
      "source": [
        "2. Якою буде остача від ділення числа 11283 на 89? Обчисліть з допомогою Python."
      ]
    },
    {
      "cell_type": "code",
      "execution_count": null,
      "metadata": {
        "colab": {
          "base_uri": "https://localhost:8080/"
        },
        "id": "ejZc3ng_TpgY",
        "outputId": "681c0dfa-7e7f-4c31-f700-b85605e4d489"
      },
      "outputs": [
        {
          "data": {
            "text/plain": [
              "69"
            ]
          },
          "execution_count": 3,
          "metadata": {},
          "output_type": "execute_result"
        }
      ],
      "source": [
        "11283 % 89"
      ]
    },
    {
      "cell_type": "markdown",
      "metadata": {
        "id": "RO02CqdqT9oG"
      },
      "source": [
        "3. Скільки цілих разів поміститься число 89 в 11283? (Або що те саме: який буде результат цілочисельного ділення 11283 на 89?)"
      ]
    },
    {
      "cell_type": "code",
      "execution_count": null,
      "metadata": {
        "colab": {
          "base_uri": "https://localhost:8080/"
        },
        "id": "KEUb9lO5T_PI",
        "outputId": "8ed769bf-81ef-476c-8ee6-fe077ae0fb44"
      },
      "outputs": [
        {
          "data": {
            "text/plain": [
              "126"
            ]
          },
          "execution_count": 4,
          "metadata": {},
          "output_type": "execute_result"
        }
      ],
      "source": [
        "11283 // 89"
      ]
    },
    {
      "cell_type": "markdown",
      "metadata": {
        "id": "5fnIPumiT_rt"
      },
      "source": [
        "4. Запишіть у змінну `name` ваше імʼя."
      ]
    },
    {
      "cell_type": "code",
      "execution_count": 3,
      "metadata": {
        "id": "xP7Mbq45UFlV"
      },
      "outputs": [],
      "source": [
        "name = \"Tetiana\""
      ]
    },
    {
      "cell_type": "markdown",
      "metadata": {
        "id": "fR9TqY79UNDL"
      },
      "source": [
        "5. Запишіть у змінну `surname` ваше прізвище."
      ]
    },
    {
      "cell_type": "code",
      "execution_count": 4,
      "metadata": {
        "id": "0qHjyMyvUOM1"
      },
      "outputs": [],
      "source": [
        "surname = \"Martynenko\""
      ]
    },
    {
      "cell_type": "markdown",
      "metadata": {
        "id": "zqKncQLwUOxh"
      },
      "source": [
        "6. Сконкатенуйте імʼя та прізвище в одну фразу через пробіл. Запишіть результат у нову змінну `name_surname` та виведіть результат на екран.  "
      ]
    },
    {
      "cell_type": "code",
      "execution_count": 6,
      "metadata": {
        "colab": {
          "base_uri": "https://localhost:8080/",
          "height": 35
        },
        "id": "8E-blvN-UTPg",
        "outputId": "c8884691-9dea-4be3-94c7-08d261f4db98"
      },
      "outputs": [
        {
          "output_type": "display_data",
          "data": {
            "text/plain": [
              "'Tetiana Martynenko'"
            ],
            "application/vnd.google.colaboratory.intrinsic+json": {
              "type": "string"
            }
          },
          "metadata": {}
        }
      ],
      "source": [
        "name_surname = name + \" \" + surname\n",
        "display(name_surname)"
      ]
    },
    {
      "cell_type": "markdown",
      "metadata": {
        "id": "_Unl7EXlUgYn"
      },
      "source": [
        "Очікувана відповідь (тільки з вашими даними): 'Hanna Pylieva'"
      ]
    },
    {
      "cell_type": "markdown",
      "metadata": {
        "id": "z-3FI0IrUT0U"
      },
      "source": [
        "7. Зробіть усі літери змінної `name_surname` заглавними використовуючи метод рядків в Python:"
      ]
    },
    {
      "cell_type": "code",
      "execution_count": 11,
      "metadata": {
        "id": "9ahIwyT5UblY"
      },
      "outputs": [],
      "source": [
        "upper_case = name_surname.upper()"
      ]
    },
    {
      "cell_type": "markdown",
      "metadata": {
        "id": "6PDcqfmdUcLo"
      },
      "source": [
        "Очікувана відповідь (тільки з вашими даними): 'HANNA PYLIEVA'"
      ]
    },
    {
      "cell_type": "code",
      "execution_count": 12,
      "metadata": {
        "id": "K40EaRr2UfsH",
        "colab": {
          "base_uri": "https://localhost:8080/",
          "height": 35
        },
        "outputId": "26e06eab-849f-4334-86c2-c7b15b007831"
      },
      "outputs": [
        {
          "output_type": "display_data",
          "data": {
            "text/plain": [
              "'TETIANA MARTYNENKO'"
            ],
            "application/vnd.google.colaboratory.intrinsic+json": {
              "type": "string"
            }
          },
          "metadata": {}
        }
      ],
      "source": [
        "display(upper_case)"
      ]
    },
    {
      "cell_type": "markdown",
      "metadata": {
        "id": "qNl8KxeXUtnL"
      },
      "source": [
        "8. Виведіть третю літеру вашого `name_surname`. Тут уважно, треба саме третя літера. Згадайте, з якого значення починається індексування значень в Python."
      ]
    },
    {
      "cell_type": "code",
      "execution_count": 16,
      "metadata": {
        "id": "Tp7stqAhUvJz",
        "colab": {
          "base_uri": "https://localhost:8080/",
          "height": 35
        },
        "outputId": "a43fa9c6-dd54-4552-d002-25b0db4d638d"
      },
      "outputs": [
        {
          "output_type": "display_data",
          "data": {
            "text/plain": [
              "'t'"
            ],
            "application/vnd.google.colaboratory.intrinsic+json": {
              "type": "string"
            }
          },
          "metadata": {}
        }
      ],
      "source": [
        "third_letter = name_surname[2]\n",
        "display(third_letter)"
      ]
    },
    {
      "cell_type": "markdown",
      "metadata": {
        "id": "GYWHqb3UUvqk"
      },
      "source": [
        "Очікувана відповідь (тільки з вашими даними): 'n'"
      ]
    },
    {
      "cell_type": "markdown",
      "metadata": {
        "id": "1f3cc1a7"
      },
      "source": [
        "9. Виведіть першу та останню літеру вашого прізвища."
      ]
    },
    {
      "cell_type": "code",
      "execution_count": 29,
      "metadata": {
        "id": "s1ZgN3xuUyB8",
        "colab": {
          "base_uri": "https://localhost:8080/",
          "height": 53
        },
        "outputId": "1ead077e-b19f-4d9b-b5ce-2f8222484e76"
      },
      "outputs": [
        {
          "output_type": "display_data",
          "data": {
            "text/plain": [
              "'M'"
            ],
            "application/vnd.google.colaboratory.intrinsic+json": {
              "type": "string"
            }
          },
          "metadata": {}
        },
        {
          "output_type": "display_data",
          "data": {
            "text/plain": [
              "'o'"
            ],
            "application/vnd.google.colaboratory.intrinsic+json": {
              "type": "string"
            }
          },
          "metadata": {}
        }
      ],
      "source": [
        "first_letter = surname[0]\n",
        "last_letter = surname[len(surname)-1]\n",
        "display(first_letter, last_letter)"
      ]
    },
    {
      "cell_type": "markdown",
      "metadata": {
        "id": "KjlFjjhHVAt2"
      },
      "source": [
        "Очікувана відповідь (тільки з вашими даними): ('P', 'a')"
      ]
    },
    {
      "cell_type": "markdown",
      "metadata": {
        "id": "UYLoho3DVMt2"
      },
      "source": [
        "10. Виведіть довжину вашого прізвища."
      ]
    },
    {
      "cell_type": "code",
      "execution_count": 30,
      "metadata": {
        "id": "0TPJBh0LVA8q",
        "colab": {
          "base_uri": "https://localhost:8080/",
          "height": 34
        },
        "outputId": "8d62ddb0-8eeb-4d96-ca3b-080d3397c8db"
      },
      "outputs": [
        {
          "output_type": "display_data",
          "data": {
            "text/plain": [
              "10"
            ]
          },
          "metadata": {}
        }
      ],
      "source": [
        "surname_len = len(surname)\n",
        "display(surname_len)"
      ]
    },
    {
      "cell_type": "markdown",
      "metadata": {
        "id": "9FaxqvVgVRYW"
      },
      "source": [
        "Очікувана відповідь (тільки з вашими даними): 7\n"
      ]
    },
    {
      "cell_type": "markdown",
      "metadata": {
        "id": "JN2wxSlGVVAj"
      },
      "source": [
        "11. Виведіть кількість літер `a` у столиці Мадагаскару `Antananarivo`. Важливо врахувати всі літери, як великі, так і маленькі."
      ]
    },
    {
      "cell_type": "code",
      "execution_count": 34,
      "metadata": {
        "id": "LCeHHz9bVUgL",
        "colab": {
          "base_uri": "https://localhost:8080/",
          "height": 34
        },
        "outputId": "6dabea02-6801-4a4c-b39c-a9c1fa3f4617"
      },
      "outputs": [
        {
          "output_type": "display_data",
          "data": {
            "text/plain": [
              "4"
            ]
          },
          "metadata": {}
        }
      ],
      "source": [
        "word = \"Antananarivo\".lower()\n",
        "letter_counter = word.count(\"a\")\n",
        "display(letter_counter)"
      ]
    },
    {
      "cell_type": "markdown",
      "metadata": {
        "id": "Ux4SQiuSVo92"
      },
      "source": [
        "Очікувана відповідь: 4"
      ]
    },
    {
      "cell_type": "markdown",
      "metadata": {
        "id": "mwEs0xnmVtes"
      },
      "source": [
        "12. Створіть рядок `my_string` зі значенням: \"The quick brown fox jumps over the lazy dog!!!\".   \n",
        "Перевірте, чи починається рядок `my_string` з \"The\" і чи закінчується він \"dog!\". Виведіть результати на екран."
      ]
    },
    {
      "cell_type": "code",
      "execution_count": 36,
      "metadata": {
        "id": "VlXDNpXcVs59",
        "colab": {
          "base_uri": "https://localhost:8080/",
          "height": 51
        },
        "outputId": "a2ddb6a8-ec11-45bf-99cc-c9734fa60d04"
      },
      "outputs": [
        {
          "output_type": "display_data",
          "data": {
            "text/plain": [
              "True"
            ]
          },
          "metadata": {}
        },
        {
          "output_type": "display_data",
          "data": {
            "text/plain": [
              "False"
            ]
          },
          "metadata": {}
        }
      ],
      "source": [
        "my_string = \"The quick brown fox jumps over the lazy dog!!!\"\n",
        "check_start = my_string.startswith(\"The\")\n",
        "check_end = my_string.endswith(\"dog!\")\n",
        "display(check_start,check_end)"
      ]
    },
    {
      "cell_type": "markdown",
      "metadata": {
        "id": "Yc-UwtqvV_h0"
      },
      "source": [
        "13. Розділіть рядок `my_string` на список окремих слів, а потім з'єднайте всі слова через нижнє підкреслювання. Виведіть результат на екран."
      ]
    },
    {
      "cell_type": "code",
      "execution_count": 61,
      "metadata": {
        "id": "m5I48Ii-WDSK",
        "colab": {
          "base_uri": "https://localhost:8080/",
          "height": 35
        },
        "outputId": "cd521c45-353d-4e8d-a60b-bf7c531f41b3"
      },
      "outputs": [
        {
          "output_type": "display_data",
          "data": {
            "text/plain": [
              "'The_quick_brown_fox_jumps_over_the_lazy_dog!!!'"
            ],
            "application/vnd.google.colaboratory.intrinsic+json": {
              "type": "string"
            }
          },
          "metadata": {}
        }
      ],
      "source": [
        "sep_words = my_string.split(\" \")\n",
        "underlined = \"_\".join(sep_words)\n",
        "display(underlined)"
      ]
    },
    {
      "cell_type": "markdown",
      "metadata": {
        "id": "UqvD1_jIXRhx"
      },
      "source": [
        "Очікуваний результат: `The_quick_brown_fox_jumps_over_the_lazy_dog!!!`"
      ]
    }
  ],
  "metadata": {
    "colab": {
      "provenance": [],
      "include_colab_link": true
    },
    "kernelspec": {
      "display_name": "Python 3",
      "name": "python3"
    },
    "language_info": {
      "name": "python"
    }
  },
  "nbformat": 4,
  "nbformat_minor": 0
}